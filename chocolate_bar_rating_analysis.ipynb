{
  "nbformat": 4,
  "nbformat_minor": 0,
  "metadata": {
    "colab": {
      "name": "chocolate bar rating analysis.ipynb",
      "provenance": [],
      "collapsed_sections": [],
      "mount_file_id": "1rE1h6JSC9cqlAU2q8_PxE2R5iSHwh1q9",
      "authorship_tag": "ABX9TyM7ZC2JL1gGc62ZWB3zDAy7",
      "include_colab_link": true
    },
    "kernelspec": {
      "name": "python3",
      "display_name": "Python 3"
    },
    "language_info": {
      "name": "python"
    }
  },
  "cells": [
    {
      "cell_type": "markdown",
      "metadata": {
        "id": "view-in-github",
        "colab_type": "text"
      },
      "source": [
        "<a href=\"https://colab.research.google.com/github/chinnuzz77/Chocolate-Bar-Rating-Analysis/blob/main/chocolate_bar_rating_analysis.ipynb\" target=\"_parent\"><img src=\"https://colab.research.google.com/assets/colab-badge.svg\" alt=\"Open In Colab\"/></a>"
      ]
    },
    {
      "cell_type": "code",
      "metadata": {
        "id": "LFa_YYehTOc7"
      },
      "source": [
        ""
      ],
      "execution_count": 3,
      "outputs": []
    },
    {
      "cell_type": "markdown",
      "metadata": {
        "id": "QPbxwa4YU4vH"
      },
      "source": [
        "#Chocolate Bar Ratings Analysis\n",
        "\n",
        "\n",
        "Chocolate is one of the most popular candies in the world. Most importanly not all chocolates are created equally,For this reason its meaningful to analayze chocolate bar ratings . This dataset contains expert ratings of over 1,700 individual chocolate bars, along with information on their regional origin, percentage of cocoa, the variety of chocolate bean used and where the beans were grown.\n",
        "#Flavors of Cacao Rating System:\n",
        "\n",
        "\n",
        "*  5= Elite (Transcending beyond the ordinary limits) List item\n",
        "*  4= Premium (Superior flavor development, character and style) \n",
        "\n",
        "*   3= Satisfactory(3.0) to praiseworthy(3.75) (well made with special qualities)\n",
        "\n",
        "* 2= Disappointing (Passable but contains at least one significant flaw)\n",
        "\n",
        "* 1= Unpleasant (mostly unpalatable)\n",
        "\n",
        "\n",
        "\n",
        "\n",
        "\n",
        "\n",
        "\n",
        "\n"
      ]
    },
    {
      "cell_type": "code",
      "metadata": {
        "id": "3rv2hFBXTOwj"
      },
      "source": [
        "#import all the packages\n",
        "import pandas as pd\n",
        "import numpy as np\n",
        "import matplotlib.pyplot as plt\n",
        "import seaborn as sns"
      ],
      "execution_count": 4,
      "outputs": []
    },
    {
      "cell_type": "markdown",
      "metadata": {
        "id": "DrzJaOc5sUTc"
      },
      "source": [
        "# Questions for Analysis \n",
        "\n",
        "\n",
        "* Where are the best beans grown?\n",
        "*  which country produced the highest rated bars?\n",
        "* What is the relation between cocoa percentage and rating ?   \n",
        "*  which company has highest rating ?\n",
        "* which type of bean is used in highest rated bars ?   \n",
        "*  Broad bean origin of highest rated bars? \n",
        "* which company produce max no. of chocolate bars ?  \n",
        "* where soma gets its beans ?   \n",
        "* what are the ratings for soma's chocolate bars ?\n",
        "* find the ratings of chocolate bars with 70% cocoa ?  \n",
        "* which is the top company gets rating >= 3.5 \n",
        "\n",
        "\n",
        "\n",
        "\n",
        "\n",
        "\n",
        "\n",
        "\n",
        "\n",
        "\n"
      ]
    },
    {
      "cell_type": "code",
      "metadata": {
        "id": "KLbfU8FxUSZk",
        "colab": {
          "base_uri": "https://localhost:8080/",
          "height": 424
        },
        "outputId": "7a30dafb-d156-460b-abfd-396303d38935"
      },
      "source": [
        "df = pd.read_csv('/content/drive/MyDrive/Data analysis projects/flavors_of_cacao.csv')\n",
        "df                                                                                         # reading the csv_ file"
      ],
      "execution_count": 5,
      "outputs": [
        {
          "output_type": "execute_result",
          "data": {
            "text/html": [
              "<div>\n",
              "<style scoped>\n",
              "    .dataframe tbody tr th:only-of-type {\n",
              "        vertical-align: middle;\n",
              "    }\n",
              "\n",
              "    .dataframe tbody tr th {\n",
              "        vertical-align: top;\n",
              "    }\n",
              "\n",
              "    .dataframe thead th {\n",
              "        text-align: right;\n",
              "    }\n",
              "</style>\n",
              "<table border=\"1\" class=\"dataframe\">\n",
              "  <thead>\n",
              "    <tr style=\"text-align: right;\">\n",
              "      <th></th>\n",
              "      <th>Company \\n(Maker-if known)</th>\n",
              "      <th>Specific Bean Origin\\nor Bar Name</th>\n",
              "      <th>REF</th>\n",
              "      <th>Review\\nDate</th>\n",
              "      <th>Cocoa\\nPercent</th>\n",
              "      <th>Company\\nLocation</th>\n",
              "      <th>Rating</th>\n",
              "      <th>Bean\\nType</th>\n",
              "      <th>Broad Bean\\nOrigin</th>\n",
              "    </tr>\n",
              "  </thead>\n",
              "  <tbody>\n",
              "    <tr>\n",
              "      <th>0</th>\n",
              "      <td>A. Morin</td>\n",
              "      <td>Agua Grande</td>\n",
              "      <td>1876</td>\n",
              "      <td>2016</td>\n",
              "      <td>63%</td>\n",
              "      <td>France</td>\n",
              "      <td>3.75</td>\n",
              "      <td></td>\n",
              "      <td>Sao Tome</td>\n",
              "    </tr>\n",
              "    <tr>\n",
              "      <th>1</th>\n",
              "      <td>A. Morin</td>\n",
              "      <td>Kpime</td>\n",
              "      <td>1676</td>\n",
              "      <td>2015</td>\n",
              "      <td>70%</td>\n",
              "      <td>France</td>\n",
              "      <td>2.75</td>\n",
              "      <td></td>\n",
              "      <td>Togo</td>\n",
              "    </tr>\n",
              "    <tr>\n",
              "      <th>2</th>\n",
              "      <td>A. Morin</td>\n",
              "      <td>Atsane</td>\n",
              "      <td>1676</td>\n",
              "      <td>2015</td>\n",
              "      <td>70%</td>\n",
              "      <td>France</td>\n",
              "      <td>3.00</td>\n",
              "      <td></td>\n",
              "      <td>Togo</td>\n",
              "    </tr>\n",
              "    <tr>\n",
              "      <th>3</th>\n",
              "      <td>A. Morin</td>\n",
              "      <td>Akata</td>\n",
              "      <td>1680</td>\n",
              "      <td>2015</td>\n",
              "      <td>70%</td>\n",
              "      <td>France</td>\n",
              "      <td>3.50</td>\n",
              "      <td></td>\n",
              "      <td>Togo</td>\n",
              "    </tr>\n",
              "    <tr>\n",
              "      <th>4</th>\n",
              "      <td>A. Morin</td>\n",
              "      <td>Quilla</td>\n",
              "      <td>1704</td>\n",
              "      <td>2015</td>\n",
              "      <td>70%</td>\n",
              "      <td>France</td>\n",
              "      <td>3.50</td>\n",
              "      <td></td>\n",
              "      <td>Peru</td>\n",
              "    </tr>\n",
              "    <tr>\n",
              "      <th>...</th>\n",
              "      <td>...</td>\n",
              "      <td>...</td>\n",
              "      <td>...</td>\n",
              "      <td>...</td>\n",
              "      <td>...</td>\n",
              "      <td>...</td>\n",
              "      <td>...</td>\n",
              "      <td>...</td>\n",
              "      <td>...</td>\n",
              "    </tr>\n",
              "    <tr>\n",
              "      <th>1790</th>\n",
              "      <td>Zotter</td>\n",
              "      <td>Peru</td>\n",
              "      <td>647</td>\n",
              "      <td>2011</td>\n",
              "      <td>70%</td>\n",
              "      <td>Austria</td>\n",
              "      <td>3.75</td>\n",
              "      <td></td>\n",
              "      <td>Peru</td>\n",
              "    </tr>\n",
              "    <tr>\n",
              "      <th>1791</th>\n",
              "      <td>Zotter</td>\n",
              "      <td>Congo</td>\n",
              "      <td>749</td>\n",
              "      <td>2011</td>\n",
              "      <td>65%</td>\n",
              "      <td>Austria</td>\n",
              "      <td>3.00</td>\n",
              "      <td>Forastero</td>\n",
              "      <td>Congo</td>\n",
              "    </tr>\n",
              "    <tr>\n",
              "      <th>1792</th>\n",
              "      <td>Zotter</td>\n",
              "      <td>Kerala State</td>\n",
              "      <td>749</td>\n",
              "      <td>2011</td>\n",
              "      <td>65%</td>\n",
              "      <td>Austria</td>\n",
              "      <td>3.50</td>\n",
              "      <td>Forastero</td>\n",
              "      <td>India</td>\n",
              "    </tr>\n",
              "    <tr>\n",
              "      <th>1793</th>\n",
              "      <td>Zotter</td>\n",
              "      <td>Kerala State</td>\n",
              "      <td>781</td>\n",
              "      <td>2011</td>\n",
              "      <td>62%</td>\n",
              "      <td>Austria</td>\n",
              "      <td>3.25</td>\n",
              "      <td></td>\n",
              "      <td>India</td>\n",
              "    </tr>\n",
              "    <tr>\n",
              "      <th>1794</th>\n",
              "      <td>Zotter</td>\n",
              "      <td>Brazil, Mitzi Blue</td>\n",
              "      <td>486</td>\n",
              "      <td>2010</td>\n",
              "      <td>65%</td>\n",
              "      <td>Austria</td>\n",
              "      <td>3.00</td>\n",
              "      <td></td>\n",
              "      <td>Brazil</td>\n",
              "    </tr>\n",
              "  </tbody>\n",
              "</table>\n",
              "<p>1795 rows × 9 columns</p>\n",
              "</div>"
            ],
            "text/plain": [
              "     Company \\n(Maker-if known)  ... Broad Bean\\nOrigin\n",
              "0                      A. Morin  ...           Sao Tome\n",
              "1                      A. Morin  ...               Togo\n",
              "2                      A. Morin  ...               Togo\n",
              "3                      A. Morin  ...               Togo\n",
              "4                      A. Morin  ...               Peru\n",
              "...                         ...  ...                ...\n",
              "1790                     Zotter  ...               Peru\n",
              "1791                     Zotter  ...              Congo\n",
              "1792                     Zotter  ...              India\n",
              "1793                     Zotter  ...              India\n",
              "1794                     Zotter  ...             Brazil\n",
              "\n",
              "[1795 rows x 9 columns]"
            ]
          },
          "metadata": {
            "tags": []
          },
          "execution_count": 5
        }
      ]
    },
    {
      "cell_type": "code",
      "metadata": {
        "id": "EE0EaBiFTOy8",
        "colab": {
          "base_uri": "https://localhost:8080/"
        },
        "outputId": "326cfecb-87d2-46ce-fdac-b15ecd50e62b"
      },
      "source": [
        "df.shape    # shape of the data"
      ],
      "execution_count": 6,
      "outputs": [
        {
          "output_type": "execute_result",
          "data": {
            "text/plain": [
              "(1795, 9)"
            ]
          },
          "metadata": {
            "tags": []
          },
          "execution_count": 6
        }
      ]
    },
    {
      "cell_type": "code",
      "metadata": {
        "id": "dZgbMADsTO1k",
        "colab": {
          "base_uri": "https://localhost:8080/"
        },
        "outputId": "9aa308fa-ac51-4832-c4b8-f665cf235d41"
      },
      "source": [
        "df.columns     # finding the columns"
      ],
      "execution_count": 7,
      "outputs": [
        {
          "output_type": "execute_result",
          "data": {
            "text/plain": [
              "Index(['Company \\n(Maker-if known)', 'Specific Bean Origin\\nor Bar Name',\n",
              "       'REF', 'Review\\nDate', 'Cocoa\\nPercent', 'Company\\nLocation', 'Rating',\n",
              "       'Bean\\nType', 'Broad Bean\\nOrigin'],\n",
              "      dtype='object')"
            ]
          },
          "metadata": {
            "tags": []
          },
          "execution_count": 7
        }
      ]
    },
    {
      "cell_type": "code",
      "metadata": {
        "id": "S39Brqh7TO4O",
        "colab": {
          "base_uri": "https://localhost:8080/",
          "height": 300
        },
        "outputId": "a1767c03-65e9-4759-d89b-0179b1dcc655"
      },
      "source": [
        "df.describe()   "
      ],
      "execution_count": 8,
      "outputs": [
        {
          "output_type": "execute_result",
          "data": {
            "text/html": [
              "<div>\n",
              "<style scoped>\n",
              "    .dataframe tbody tr th:only-of-type {\n",
              "        vertical-align: middle;\n",
              "    }\n",
              "\n",
              "    .dataframe tbody tr th {\n",
              "        vertical-align: top;\n",
              "    }\n",
              "\n",
              "    .dataframe thead th {\n",
              "        text-align: right;\n",
              "    }\n",
              "</style>\n",
              "<table border=\"1\" class=\"dataframe\">\n",
              "  <thead>\n",
              "    <tr style=\"text-align: right;\">\n",
              "      <th></th>\n",
              "      <th>REF</th>\n",
              "      <th>Review\\nDate</th>\n",
              "      <th>Rating</th>\n",
              "    </tr>\n",
              "  </thead>\n",
              "  <tbody>\n",
              "    <tr>\n",
              "      <th>count</th>\n",
              "      <td>1795.000000</td>\n",
              "      <td>1795.000000</td>\n",
              "      <td>1795.000000</td>\n",
              "    </tr>\n",
              "    <tr>\n",
              "      <th>mean</th>\n",
              "      <td>1035.904735</td>\n",
              "      <td>2012.325348</td>\n",
              "      <td>3.185933</td>\n",
              "    </tr>\n",
              "    <tr>\n",
              "      <th>std</th>\n",
              "      <td>552.886365</td>\n",
              "      <td>2.927210</td>\n",
              "      <td>0.478062</td>\n",
              "    </tr>\n",
              "    <tr>\n",
              "      <th>min</th>\n",
              "      <td>5.000000</td>\n",
              "      <td>2006.000000</td>\n",
              "      <td>1.000000</td>\n",
              "    </tr>\n",
              "    <tr>\n",
              "      <th>25%</th>\n",
              "      <td>576.000000</td>\n",
              "      <td>2010.000000</td>\n",
              "      <td>2.875000</td>\n",
              "    </tr>\n",
              "    <tr>\n",
              "      <th>50%</th>\n",
              "      <td>1069.000000</td>\n",
              "      <td>2013.000000</td>\n",
              "      <td>3.250000</td>\n",
              "    </tr>\n",
              "    <tr>\n",
              "      <th>75%</th>\n",
              "      <td>1502.000000</td>\n",
              "      <td>2015.000000</td>\n",
              "      <td>3.500000</td>\n",
              "    </tr>\n",
              "    <tr>\n",
              "      <th>max</th>\n",
              "      <td>1952.000000</td>\n",
              "      <td>2017.000000</td>\n",
              "      <td>5.000000</td>\n",
              "    </tr>\n",
              "  </tbody>\n",
              "</table>\n",
              "</div>"
            ],
            "text/plain": [
              "               REF  Review\\nDate       Rating\n",
              "count  1795.000000   1795.000000  1795.000000\n",
              "mean   1035.904735   2012.325348     3.185933\n",
              "std     552.886365      2.927210     0.478062\n",
              "min       5.000000   2006.000000     1.000000\n",
              "25%     576.000000   2010.000000     2.875000\n",
              "50%    1069.000000   2013.000000     3.250000\n",
              "75%    1502.000000   2015.000000     3.500000\n",
              "max    1952.000000   2017.000000     5.000000"
            ]
          },
          "metadata": {
            "tags": []
          },
          "execution_count": 8
        }
      ]
    },
    {
      "cell_type": "code",
      "metadata": {
        "id": "2985MiRSTO7J",
        "colab": {
          "base_uri": "https://localhost:8080/",
          "height": 174
        },
        "outputId": "4eef3452-3050-4e09-d25a-dcdc5a1c1d0f"
      },
      "source": [
        "df.describe(include='object')"
      ],
      "execution_count": 9,
      "outputs": [
        {
          "output_type": "execute_result",
          "data": {
            "text/html": [
              "<div>\n",
              "<style scoped>\n",
              "    .dataframe tbody tr th:only-of-type {\n",
              "        vertical-align: middle;\n",
              "    }\n",
              "\n",
              "    .dataframe tbody tr th {\n",
              "        vertical-align: top;\n",
              "    }\n",
              "\n",
              "    .dataframe thead th {\n",
              "        text-align: right;\n",
              "    }\n",
              "</style>\n",
              "<table border=\"1\" class=\"dataframe\">\n",
              "  <thead>\n",
              "    <tr style=\"text-align: right;\">\n",
              "      <th></th>\n",
              "      <th>Company \\n(Maker-if known)</th>\n",
              "      <th>Specific Bean Origin\\nor Bar Name</th>\n",
              "      <th>Cocoa\\nPercent</th>\n",
              "      <th>Company\\nLocation</th>\n",
              "      <th>Bean\\nType</th>\n",
              "      <th>Broad Bean\\nOrigin</th>\n",
              "    </tr>\n",
              "  </thead>\n",
              "  <tbody>\n",
              "    <tr>\n",
              "      <th>count</th>\n",
              "      <td>1795</td>\n",
              "      <td>1795</td>\n",
              "      <td>1795</td>\n",
              "      <td>1795</td>\n",
              "      <td>1794</td>\n",
              "      <td>1794</td>\n",
              "    </tr>\n",
              "    <tr>\n",
              "      <th>unique</th>\n",
              "      <td>416</td>\n",
              "      <td>1039</td>\n",
              "      <td>45</td>\n",
              "      <td>60</td>\n",
              "      <td>41</td>\n",
              "      <td>100</td>\n",
              "    </tr>\n",
              "    <tr>\n",
              "      <th>top</th>\n",
              "      <td>Soma</td>\n",
              "      <td>Madagascar</td>\n",
              "      <td>70%</td>\n",
              "      <td>U.S.A.</td>\n",
              "      <td></td>\n",
              "      <td>Venezuela</td>\n",
              "    </tr>\n",
              "    <tr>\n",
              "      <th>freq</th>\n",
              "      <td>47</td>\n",
              "      <td>57</td>\n",
              "      <td>672</td>\n",
              "      <td>764</td>\n",
              "      <td>887</td>\n",
              "      <td>214</td>\n",
              "    </tr>\n",
              "  </tbody>\n",
              "</table>\n",
              "</div>"
            ],
            "text/plain": [
              "       Company \\n(Maker-if known)  ... Broad Bean\\nOrigin\n",
              "count                        1795  ...               1794\n",
              "unique                        416  ...                100\n",
              "top                          Soma  ...          Venezuela\n",
              "freq                           47  ...                214\n",
              "\n",
              "[4 rows x 6 columns]"
            ]
          },
          "metadata": {
            "tags": []
          },
          "execution_count": 9
        }
      ]
    },
    {
      "cell_type": "code",
      "metadata": {
        "id": "AHrc5AS4TO-B",
        "colab": {
          "base_uri": "https://localhost:8080/",
          "height": 424
        },
        "outputId": "22dda53e-d2cf-4171-b26d-944ed8eda95c"
      },
      "source": [
        "df.isnull()      # checking the null values in data set"
      ],
      "execution_count": 10,
      "outputs": [
        {
          "output_type": "execute_result",
          "data": {
            "text/html": [
              "<div>\n",
              "<style scoped>\n",
              "    .dataframe tbody tr th:only-of-type {\n",
              "        vertical-align: middle;\n",
              "    }\n",
              "\n",
              "    .dataframe tbody tr th {\n",
              "        vertical-align: top;\n",
              "    }\n",
              "\n",
              "    .dataframe thead th {\n",
              "        text-align: right;\n",
              "    }\n",
              "</style>\n",
              "<table border=\"1\" class=\"dataframe\">\n",
              "  <thead>\n",
              "    <tr style=\"text-align: right;\">\n",
              "      <th></th>\n",
              "      <th>Company \\n(Maker-if known)</th>\n",
              "      <th>Specific Bean Origin\\nor Bar Name</th>\n",
              "      <th>REF</th>\n",
              "      <th>Review\\nDate</th>\n",
              "      <th>Cocoa\\nPercent</th>\n",
              "      <th>Company\\nLocation</th>\n",
              "      <th>Rating</th>\n",
              "      <th>Bean\\nType</th>\n",
              "      <th>Broad Bean\\nOrigin</th>\n",
              "    </tr>\n",
              "  </thead>\n",
              "  <tbody>\n",
              "    <tr>\n",
              "      <th>0</th>\n",
              "      <td>False</td>\n",
              "      <td>False</td>\n",
              "      <td>False</td>\n",
              "      <td>False</td>\n",
              "      <td>False</td>\n",
              "      <td>False</td>\n",
              "      <td>False</td>\n",
              "      <td>False</td>\n",
              "      <td>False</td>\n",
              "    </tr>\n",
              "    <tr>\n",
              "      <th>1</th>\n",
              "      <td>False</td>\n",
              "      <td>False</td>\n",
              "      <td>False</td>\n",
              "      <td>False</td>\n",
              "      <td>False</td>\n",
              "      <td>False</td>\n",
              "      <td>False</td>\n",
              "      <td>False</td>\n",
              "      <td>False</td>\n",
              "    </tr>\n",
              "    <tr>\n",
              "      <th>2</th>\n",
              "      <td>False</td>\n",
              "      <td>False</td>\n",
              "      <td>False</td>\n",
              "      <td>False</td>\n",
              "      <td>False</td>\n",
              "      <td>False</td>\n",
              "      <td>False</td>\n",
              "      <td>False</td>\n",
              "      <td>False</td>\n",
              "    </tr>\n",
              "    <tr>\n",
              "      <th>3</th>\n",
              "      <td>False</td>\n",
              "      <td>False</td>\n",
              "      <td>False</td>\n",
              "      <td>False</td>\n",
              "      <td>False</td>\n",
              "      <td>False</td>\n",
              "      <td>False</td>\n",
              "      <td>False</td>\n",
              "      <td>False</td>\n",
              "    </tr>\n",
              "    <tr>\n",
              "      <th>4</th>\n",
              "      <td>False</td>\n",
              "      <td>False</td>\n",
              "      <td>False</td>\n",
              "      <td>False</td>\n",
              "      <td>False</td>\n",
              "      <td>False</td>\n",
              "      <td>False</td>\n",
              "      <td>False</td>\n",
              "      <td>False</td>\n",
              "    </tr>\n",
              "    <tr>\n",
              "      <th>...</th>\n",
              "      <td>...</td>\n",
              "      <td>...</td>\n",
              "      <td>...</td>\n",
              "      <td>...</td>\n",
              "      <td>...</td>\n",
              "      <td>...</td>\n",
              "      <td>...</td>\n",
              "      <td>...</td>\n",
              "      <td>...</td>\n",
              "    </tr>\n",
              "    <tr>\n",
              "      <th>1790</th>\n",
              "      <td>False</td>\n",
              "      <td>False</td>\n",
              "      <td>False</td>\n",
              "      <td>False</td>\n",
              "      <td>False</td>\n",
              "      <td>False</td>\n",
              "      <td>False</td>\n",
              "      <td>False</td>\n",
              "      <td>False</td>\n",
              "    </tr>\n",
              "    <tr>\n",
              "      <th>1791</th>\n",
              "      <td>False</td>\n",
              "      <td>False</td>\n",
              "      <td>False</td>\n",
              "      <td>False</td>\n",
              "      <td>False</td>\n",
              "      <td>False</td>\n",
              "      <td>False</td>\n",
              "      <td>False</td>\n",
              "      <td>False</td>\n",
              "    </tr>\n",
              "    <tr>\n",
              "      <th>1792</th>\n",
              "      <td>False</td>\n",
              "      <td>False</td>\n",
              "      <td>False</td>\n",
              "      <td>False</td>\n",
              "      <td>False</td>\n",
              "      <td>False</td>\n",
              "      <td>False</td>\n",
              "      <td>False</td>\n",
              "      <td>False</td>\n",
              "    </tr>\n",
              "    <tr>\n",
              "      <th>1793</th>\n",
              "      <td>False</td>\n",
              "      <td>False</td>\n",
              "      <td>False</td>\n",
              "      <td>False</td>\n",
              "      <td>False</td>\n",
              "      <td>False</td>\n",
              "      <td>False</td>\n",
              "      <td>False</td>\n",
              "      <td>False</td>\n",
              "    </tr>\n",
              "    <tr>\n",
              "      <th>1794</th>\n",
              "      <td>False</td>\n",
              "      <td>False</td>\n",
              "      <td>False</td>\n",
              "      <td>False</td>\n",
              "      <td>False</td>\n",
              "      <td>False</td>\n",
              "      <td>False</td>\n",
              "      <td>False</td>\n",
              "      <td>False</td>\n",
              "    </tr>\n",
              "  </tbody>\n",
              "</table>\n",
              "<p>1795 rows × 9 columns</p>\n",
              "</div>"
            ],
            "text/plain": [
              "      Company \\n(Maker-if known)  ...  Broad Bean\\nOrigin\n",
              "0                          False  ...               False\n",
              "1                          False  ...               False\n",
              "2                          False  ...               False\n",
              "3                          False  ...               False\n",
              "4                          False  ...               False\n",
              "...                          ...  ...                 ...\n",
              "1790                       False  ...               False\n",
              "1791                       False  ...               False\n",
              "1792                       False  ...               False\n",
              "1793                       False  ...               False\n",
              "1794                       False  ...               False\n",
              "\n",
              "[1795 rows x 9 columns]"
            ]
          },
          "metadata": {
            "tags": []
          },
          "execution_count": 10
        }
      ]
    },
    {
      "cell_type": "code",
      "metadata": {
        "id": "KDZAG20DTPAo",
        "colab": {
          "base_uri": "https://localhost:8080/"
        },
        "outputId": "05dbd9c2-0edb-48a9-d759-dc7f18204dda"
      },
      "source": [
        "df.isna().sum()   "
      ],
      "execution_count": 11,
      "outputs": [
        {
          "output_type": "execute_result",
          "data": {
            "text/plain": [
              "Company \\n(Maker-if known)           0\n",
              "Specific Bean Origin\\nor Bar Name    0\n",
              "REF                                  0\n",
              "Review\\nDate                         0\n",
              "Cocoa\\nPercent                       0\n",
              "Company\\nLocation                    0\n",
              "Rating                               0\n",
              "Bean\\nType                           1\n",
              "Broad Bean\\nOrigin                   1\n",
              "dtype: int64"
            ]
          },
          "metadata": {
            "tags": []
          },
          "execution_count": 11
        }
      ]
    },
    {
      "cell_type": "markdown",
      "metadata": {
        "id": "9JBjHbZlWtU7"
      },
      "source": [
        "# Cleaning the data set"
      ]
    },
    {
      "cell_type": "code",
      "metadata": {
        "id": "otAYWJ2QTPXx",
        "colab": {
          "base_uri": "https://localhost:8080/",
          "height": 424
        },
        "outputId": "dcdcd96e-be65-4f08-ed8c-1de869f22952"
      },
      "source": [
        "df.columns = ['CompanyName','BeanOrigin','REF','ReviewDate','CocoaPercent','Location','Rating','BeanType','BroadOrgin']\n",
        "df                                                                                                                         # change the column names\n",
        "\n"
      ],
      "execution_count": 12,
      "outputs": [
        {
          "output_type": "execute_result",
          "data": {
            "text/html": [
              "<div>\n",
              "<style scoped>\n",
              "    .dataframe tbody tr th:only-of-type {\n",
              "        vertical-align: middle;\n",
              "    }\n",
              "\n",
              "    .dataframe tbody tr th {\n",
              "        vertical-align: top;\n",
              "    }\n",
              "\n",
              "    .dataframe thead th {\n",
              "        text-align: right;\n",
              "    }\n",
              "</style>\n",
              "<table border=\"1\" class=\"dataframe\">\n",
              "  <thead>\n",
              "    <tr style=\"text-align: right;\">\n",
              "      <th></th>\n",
              "      <th>CompanyName</th>\n",
              "      <th>BeanOrigin</th>\n",
              "      <th>REF</th>\n",
              "      <th>ReviewDate</th>\n",
              "      <th>CocoaPercent</th>\n",
              "      <th>Location</th>\n",
              "      <th>Rating</th>\n",
              "      <th>BeanType</th>\n",
              "      <th>BroadOrgin</th>\n",
              "    </tr>\n",
              "  </thead>\n",
              "  <tbody>\n",
              "    <tr>\n",
              "      <th>0</th>\n",
              "      <td>A. Morin</td>\n",
              "      <td>Agua Grande</td>\n",
              "      <td>1876</td>\n",
              "      <td>2016</td>\n",
              "      <td>63%</td>\n",
              "      <td>France</td>\n",
              "      <td>3.75</td>\n",
              "      <td></td>\n",
              "      <td>Sao Tome</td>\n",
              "    </tr>\n",
              "    <tr>\n",
              "      <th>1</th>\n",
              "      <td>A. Morin</td>\n",
              "      <td>Kpime</td>\n",
              "      <td>1676</td>\n",
              "      <td>2015</td>\n",
              "      <td>70%</td>\n",
              "      <td>France</td>\n",
              "      <td>2.75</td>\n",
              "      <td></td>\n",
              "      <td>Togo</td>\n",
              "    </tr>\n",
              "    <tr>\n",
              "      <th>2</th>\n",
              "      <td>A. Morin</td>\n",
              "      <td>Atsane</td>\n",
              "      <td>1676</td>\n",
              "      <td>2015</td>\n",
              "      <td>70%</td>\n",
              "      <td>France</td>\n",
              "      <td>3.00</td>\n",
              "      <td></td>\n",
              "      <td>Togo</td>\n",
              "    </tr>\n",
              "    <tr>\n",
              "      <th>3</th>\n",
              "      <td>A. Morin</td>\n",
              "      <td>Akata</td>\n",
              "      <td>1680</td>\n",
              "      <td>2015</td>\n",
              "      <td>70%</td>\n",
              "      <td>France</td>\n",
              "      <td>3.50</td>\n",
              "      <td></td>\n",
              "      <td>Togo</td>\n",
              "    </tr>\n",
              "    <tr>\n",
              "      <th>4</th>\n",
              "      <td>A. Morin</td>\n",
              "      <td>Quilla</td>\n",
              "      <td>1704</td>\n",
              "      <td>2015</td>\n",
              "      <td>70%</td>\n",
              "      <td>France</td>\n",
              "      <td>3.50</td>\n",
              "      <td></td>\n",
              "      <td>Peru</td>\n",
              "    </tr>\n",
              "    <tr>\n",
              "      <th>...</th>\n",
              "      <td>...</td>\n",
              "      <td>...</td>\n",
              "      <td>...</td>\n",
              "      <td>...</td>\n",
              "      <td>...</td>\n",
              "      <td>...</td>\n",
              "      <td>...</td>\n",
              "      <td>...</td>\n",
              "      <td>...</td>\n",
              "    </tr>\n",
              "    <tr>\n",
              "      <th>1790</th>\n",
              "      <td>Zotter</td>\n",
              "      <td>Peru</td>\n",
              "      <td>647</td>\n",
              "      <td>2011</td>\n",
              "      <td>70%</td>\n",
              "      <td>Austria</td>\n",
              "      <td>3.75</td>\n",
              "      <td></td>\n",
              "      <td>Peru</td>\n",
              "    </tr>\n",
              "    <tr>\n",
              "      <th>1791</th>\n",
              "      <td>Zotter</td>\n",
              "      <td>Congo</td>\n",
              "      <td>749</td>\n",
              "      <td>2011</td>\n",
              "      <td>65%</td>\n",
              "      <td>Austria</td>\n",
              "      <td>3.00</td>\n",
              "      <td>Forastero</td>\n",
              "      <td>Congo</td>\n",
              "    </tr>\n",
              "    <tr>\n",
              "      <th>1792</th>\n",
              "      <td>Zotter</td>\n",
              "      <td>Kerala State</td>\n",
              "      <td>749</td>\n",
              "      <td>2011</td>\n",
              "      <td>65%</td>\n",
              "      <td>Austria</td>\n",
              "      <td>3.50</td>\n",
              "      <td>Forastero</td>\n",
              "      <td>India</td>\n",
              "    </tr>\n",
              "    <tr>\n",
              "      <th>1793</th>\n",
              "      <td>Zotter</td>\n",
              "      <td>Kerala State</td>\n",
              "      <td>781</td>\n",
              "      <td>2011</td>\n",
              "      <td>62%</td>\n",
              "      <td>Austria</td>\n",
              "      <td>3.25</td>\n",
              "      <td></td>\n",
              "      <td>India</td>\n",
              "    </tr>\n",
              "    <tr>\n",
              "      <th>1794</th>\n",
              "      <td>Zotter</td>\n",
              "      <td>Brazil, Mitzi Blue</td>\n",
              "      <td>486</td>\n",
              "      <td>2010</td>\n",
              "      <td>65%</td>\n",
              "      <td>Austria</td>\n",
              "      <td>3.00</td>\n",
              "      <td></td>\n",
              "      <td>Brazil</td>\n",
              "    </tr>\n",
              "  </tbody>\n",
              "</table>\n",
              "<p>1795 rows × 9 columns</p>\n",
              "</div>"
            ],
            "text/plain": [
              "     CompanyName          BeanOrigin   REF  ...  Rating   BeanType BroadOrgin\n",
              "0       A. Morin         Agua Grande  1876  ...    3.75              Sao Tome\n",
              "1       A. Morin               Kpime  1676  ...    2.75                  Togo\n",
              "2       A. Morin              Atsane  1676  ...    3.00                  Togo\n",
              "3       A. Morin               Akata  1680  ...    3.50                  Togo\n",
              "4       A. Morin              Quilla  1704  ...    3.50                  Peru\n",
              "...          ...                 ...   ...  ...     ...        ...        ...\n",
              "1790      Zotter                Peru   647  ...    3.75                  Peru\n",
              "1791      Zotter               Congo   749  ...    3.00  Forastero      Congo\n",
              "1792      Zotter        Kerala State   749  ...    3.50  Forastero      India\n",
              "1793      Zotter        Kerala State   781  ...    3.25                 India\n",
              "1794      Zotter  Brazil, Mitzi Blue   486  ...    3.00                Brazil\n",
              "\n",
              "[1795 rows x 9 columns]"
            ]
          },
          "metadata": {
            "tags": []
          },
          "execution_count": 12
        }
      ]
    },
    {
      "cell_type": "code",
      "metadata": {
        "id": "neeEXFT-TPla",
        "colab": {
          "base_uri": "https://localhost:8080/"
        },
        "outputId": "df9e7ffd-dd2b-4584-af6a-0dee284ecd6f"
      },
      "source": [
        "df.CompanyName.value_counts()"
      ],
      "execution_count": 13,
      "outputs": [
        {
          "output_type": "execute_result",
          "data": {
            "text/plain": [
              "Soma               47\n",
              "Bonnat             27\n",
              "Fresco             26\n",
              "Pralus             25\n",
              "A. Morin           23\n",
              "                   ..\n",
              "Chocablog           1\n",
              "ChocoReko           1\n",
              "Durand              1\n",
              "Mayacama            1\n",
              "Cacao de Origin     1\n",
              "Name: CompanyName, Length: 416, dtype: int64"
            ]
          },
          "metadata": {
            "tags": []
          },
          "execution_count": 13
        }
      ]
    },
    {
      "cell_type": "code",
      "metadata": {
        "id": "CO1MdbKhTPn9",
        "colab": {
          "base_uri": "https://localhost:8080/"
        },
        "outputId": "fe04c223-a294-4565-9dee-0c5451467111"
      },
      "source": [
        "df.\tCocoaPercent.value_counts()"
      ],
      "execution_count": 14,
      "outputs": [
        {
          "output_type": "execute_result",
          "data": {
            "text/plain": [
              "70%      672\n",
              "75%      222\n",
              "72%      189\n",
              "65%       78\n",
              "80%       72\n",
              "74%       50\n",
              "68%       47\n",
              "60%       43\n",
              "73%       40\n",
              "85%       36\n",
              "64%       34\n",
              "77%       33\n",
              "71%       31\n",
              "67%       27\n",
              "76%       23\n",
              "66%       23\n",
              "100%      20\n",
              "78%       17\n",
              "82%       17\n",
              "55%       16\n",
              "62%       14\n",
              "63%       12\n",
              "69%       10\n",
              "88%        8\n",
              "58%        8\n",
              "61%        8\n",
              "90%        8\n",
              "81%        5\n",
              "72.5%      4\n",
              "83%        4\n",
              "84%        4\n",
              "91%        3\n",
              "89%        2\n",
              "73.5%      2\n",
              "99%        2\n",
              "56%        2\n",
              "50%        1\n",
              "46%        1\n",
              "57%        1\n",
              "79%        1\n",
              "87%        1\n",
              "53%        1\n",
              "86%        1\n",
              "60.5%      1\n",
              "42%        1\n",
              "Name: CocoaPercent, dtype: int64"
            ]
          },
          "metadata": {
            "tags": []
          },
          "execution_count": 14
        }
      ]
    },
    {
      "cell_type": "code",
      "metadata": {
        "id": "kTHXTI31TP2l",
        "colab": {
          "base_uri": "https://localhost:8080/"
        },
        "outputId": "736da43d-6786-4bb3-eb6a-258739c56997"
      },
      "source": [
        "df.BroadOrgin.value_counts()"
      ],
      "execution_count": 15,
      "outputs": [
        {
          "output_type": "execute_result",
          "data": {
            "text/plain": [
              "Venezuela                      214\n",
              "Ecuador                        193\n",
              "Peru                           165\n",
              "Madagascar                     145\n",
              "Dominican Republic             141\n",
              "                              ... \n",
              "Gre., PNG, Haw., Haiti, Mad      1\n",
              "Dominican Rep., Bali             1\n",
              "Suriname                         1\n",
              "Madagascar & Ecuador             1\n",
              "Trinidad-Tobago                  1\n",
              "Name: BroadOrgin, Length: 100, dtype: int64"
            ]
          },
          "metadata": {
            "tags": []
          },
          "execution_count": 15
        }
      ]
    },
    {
      "cell_type": "code",
      "metadata": {
        "id": "i7lkY5R8TP5N",
        "colab": {
          "base_uri": "https://localhost:8080/"
        },
        "outputId": "3e18b3fa-8f63-45ac-a623-58c360f5ec9e"
      },
      "source": [
        "df.BeanType.value_counts()"
      ],
      "execution_count": 16,
      "outputs": [
        {
          "output_type": "execute_result",
          "data": {
            "text/plain": [
              "                            887\n",
              "Trinitario                  419\n",
              "Criollo                     153\n",
              "Forastero                    87\n",
              "Forastero (Nacional)         52\n",
              "Blend                        41\n",
              "Criollo, Trinitario          39\n",
              "Forastero (Arriba)           37\n",
              "Criollo (Porcelana)          10\n",
              "Trinitario, Criollo           9\n",
              "Forastero (Parazinho)         8\n",
              "Forastero (Arriba) ASS        6\n",
              "Beniano                       3\n",
              "EET                           3\n",
              "Matina                        3\n",
              "Nacional (Arriba)             3\n",
              "Trinitario (85% Criollo)      2\n",
              "Criollo, Forastero            2\n",
              "Criollo (Ocumare 61)          2\n",
              "Forastero (Catongo)           2\n",
              "Criollo (Amarru)              2\n",
              "Trinitario, Forastero         2\n",
              "Amazon mix                    2\n",
              "Nacional                      2\n",
              "Amazon, ICS                   2\n",
              "Forastero(Arriba, CCN)        1\n",
              "CCN51                         1\n",
              "Criollo (Ocumare 77)          1\n",
              "Trinitario, TCGA              1\n",
              "Trinitario (Amelonado)        1\n",
              "Criollo (Wild)                1\n",
              "Trinitario (Scavina)          1\n",
              "Blend-Forastero,Criollo       1\n",
              "Forastero (Amelonado)         1\n",
              "Amazon                        1\n",
              "Trinitario, Nacional          1\n",
              "Criollo, +                    1\n",
              "Forastero, Trinitario         1\n",
              "Criollo (Ocumare 67)          1\n",
              "Forastero (Arriba) ASSS       1\n",
              "Criollo (Ocumare)             1\n",
              "Name: BeanType, dtype: int64"
            ]
          },
          "metadata": {
            "tags": []
          },
          "execution_count": 16
        }
      ]
    },
    {
      "cell_type": "code",
      "metadata": {
        "id": "uSbqSlMuTQH6",
        "colab": {
          "base_uri": "https://localhost:8080/"
        },
        "outputId": "7a7d4ab6-cf1f-4fd1-b750-2c4cd2bb97d4"
      },
      "source": [
        " df['BeanType'] = df['BeanType'].fillna('unknown')\n",
        " df.BeanType.value_counts()         # filling the null values with unknown\n",
        " \n",
        " "
      ],
      "execution_count": 17,
      "outputs": [
        {
          "output_type": "execute_result",
          "data": {
            "text/plain": [
              "                            887\n",
              "Trinitario                  419\n",
              "Criollo                     153\n",
              "Forastero                    87\n",
              "Forastero (Nacional)         52\n",
              "Blend                        41\n",
              "Criollo, Trinitario          39\n",
              "Forastero (Arriba)           37\n",
              "Criollo (Porcelana)          10\n",
              "Trinitario, Criollo           9\n",
              "Forastero (Parazinho)         8\n",
              "Forastero (Arriba) ASS        6\n",
              "EET                           3\n",
              "Matina                        3\n",
              "Beniano                       3\n",
              "Nacional (Arriba)             3\n",
              "Criollo (Ocumare 61)          2\n",
              "Nacional                      2\n",
              "Criollo, Forastero            2\n",
              "Forastero (Catongo)           2\n",
              "Criollo (Amarru)              2\n",
              "Amazon, ICS                   2\n",
              "Amazon mix                    2\n",
              "Trinitario, Forastero         2\n",
              "Trinitario (85% Criollo)      2\n",
              "Blend-Forastero,Criollo       1\n",
              "CCN51                         1\n",
              "Criollo, +                    1\n",
              "Criollo (Ocumare 67)          1\n",
              "unknown                       1\n",
              "Trinitario (Amelonado)        1\n",
              "Criollo (Ocumare 77)          1\n",
              "Forastero(Arriba, CCN)        1\n",
              "Criollo (Wild)                1\n",
              "Criollo (Ocumare)             1\n",
              "Forastero (Amelonado)         1\n",
              "Trinitario, Nacional          1\n",
              "Trinitario, TCGA              1\n",
              "Forastero, Trinitario         1\n",
              "Amazon                        1\n",
              "Trinitario (Scavina)          1\n",
              "Forastero (Arriba) ASSS       1\n",
              "Name: BeanType, dtype: int64"
            ]
          },
          "metadata": {
            "tags": []
          },
          "execution_count": 17
        }
      ]
    },
    {
      "cell_type": "code",
      "metadata": {
        "id": "4K5k-BV8TQLe",
        "colab": {
          "base_uri": "https://localhost:8080/",
          "height": 424
        },
        "outputId": "d6786591-30f7-48bf-de37-fdd21e608f5a"
      },
      "source": [
        "df.drop(['REF'], axis=1, inplace=True)\n",
        "df\n",
        "                                       # column REF is same as the reviewdate or its an alternative value so we drop the column"
      ],
      "execution_count": 18,
      "outputs": [
        {
          "output_type": "execute_result",
          "data": {
            "text/html": [
              "<div>\n",
              "<style scoped>\n",
              "    .dataframe tbody tr th:only-of-type {\n",
              "        vertical-align: middle;\n",
              "    }\n",
              "\n",
              "    .dataframe tbody tr th {\n",
              "        vertical-align: top;\n",
              "    }\n",
              "\n",
              "    .dataframe thead th {\n",
              "        text-align: right;\n",
              "    }\n",
              "</style>\n",
              "<table border=\"1\" class=\"dataframe\">\n",
              "  <thead>\n",
              "    <tr style=\"text-align: right;\">\n",
              "      <th></th>\n",
              "      <th>CompanyName</th>\n",
              "      <th>BeanOrigin</th>\n",
              "      <th>ReviewDate</th>\n",
              "      <th>CocoaPercent</th>\n",
              "      <th>Location</th>\n",
              "      <th>Rating</th>\n",
              "      <th>BeanType</th>\n",
              "      <th>BroadOrgin</th>\n",
              "    </tr>\n",
              "  </thead>\n",
              "  <tbody>\n",
              "    <tr>\n",
              "      <th>0</th>\n",
              "      <td>A. Morin</td>\n",
              "      <td>Agua Grande</td>\n",
              "      <td>2016</td>\n",
              "      <td>63%</td>\n",
              "      <td>France</td>\n",
              "      <td>3.75</td>\n",
              "      <td></td>\n",
              "      <td>Sao Tome</td>\n",
              "    </tr>\n",
              "    <tr>\n",
              "      <th>1</th>\n",
              "      <td>A. Morin</td>\n",
              "      <td>Kpime</td>\n",
              "      <td>2015</td>\n",
              "      <td>70%</td>\n",
              "      <td>France</td>\n",
              "      <td>2.75</td>\n",
              "      <td></td>\n",
              "      <td>Togo</td>\n",
              "    </tr>\n",
              "    <tr>\n",
              "      <th>2</th>\n",
              "      <td>A. Morin</td>\n",
              "      <td>Atsane</td>\n",
              "      <td>2015</td>\n",
              "      <td>70%</td>\n",
              "      <td>France</td>\n",
              "      <td>3.00</td>\n",
              "      <td></td>\n",
              "      <td>Togo</td>\n",
              "    </tr>\n",
              "    <tr>\n",
              "      <th>3</th>\n",
              "      <td>A. Morin</td>\n",
              "      <td>Akata</td>\n",
              "      <td>2015</td>\n",
              "      <td>70%</td>\n",
              "      <td>France</td>\n",
              "      <td>3.50</td>\n",
              "      <td></td>\n",
              "      <td>Togo</td>\n",
              "    </tr>\n",
              "    <tr>\n",
              "      <th>4</th>\n",
              "      <td>A. Morin</td>\n",
              "      <td>Quilla</td>\n",
              "      <td>2015</td>\n",
              "      <td>70%</td>\n",
              "      <td>France</td>\n",
              "      <td>3.50</td>\n",
              "      <td></td>\n",
              "      <td>Peru</td>\n",
              "    </tr>\n",
              "    <tr>\n",
              "      <th>...</th>\n",
              "      <td>...</td>\n",
              "      <td>...</td>\n",
              "      <td>...</td>\n",
              "      <td>...</td>\n",
              "      <td>...</td>\n",
              "      <td>...</td>\n",
              "      <td>...</td>\n",
              "      <td>...</td>\n",
              "    </tr>\n",
              "    <tr>\n",
              "      <th>1790</th>\n",
              "      <td>Zotter</td>\n",
              "      <td>Peru</td>\n",
              "      <td>2011</td>\n",
              "      <td>70%</td>\n",
              "      <td>Austria</td>\n",
              "      <td>3.75</td>\n",
              "      <td></td>\n",
              "      <td>Peru</td>\n",
              "    </tr>\n",
              "    <tr>\n",
              "      <th>1791</th>\n",
              "      <td>Zotter</td>\n",
              "      <td>Congo</td>\n",
              "      <td>2011</td>\n",
              "      <td>65%</td>\n",
              "      <td>Austria</td>\n",
              "      <td>3.00</td>\n",
              "      <td>Forastero</td>\n",
              "      <td>Congo</td>\n",
              "    </tr>\n",
              "    <tr>\n",
              "      <th>1792</th>\n",
              "      <td>Zotter</td>\n",
              "      <td>Kerala State</td>\n",
              "      <td>2011</td>\n",
              "      <td>65%</td>\n",
              "      <td>Austria</td>\n",
              "      <td>3.50</td>\n",
              "      <td>Forastero</td>\n",
              "      <td>India</td>\n",
              "    </tr>\n",
              "    <tr>\n",
              "      <th>1793</th>\n",
              "      <td>Zotter</td>\n",
              "      <td>Kerala State</td>\n",
              "      <td>2011</td>\n",
              "      <td>62%</td>\n",
              "      <td>Austria</td>\n",
              "      <td>3.25</td>\n",
              "      <td></td>\n",
              "      <td>India</td>\n",
              "    </tr>\n",
              "    <tr>\n",
              "      <th>1794</th>\n",
              "      <td>Zotter</td>\n",
              "      <td>Brazil, Mitzi Blue</td>\n",
              "      <td>2010</td>\n",
              "      <td>65%</td>\n",
              "      <td>Austria</td>\n",
              "      <td>3.00</td>\n",
              "      <td></td>\n",
              "      <td>Brazil</td>\n",
              "    </tr>\n",
              "  </tbody>\n",
              "</table>\n",
              "<p>1795 rows × 8 columns</p>\n",
              "</div>"
            ],
            "text/plain": [
              "     CompanyName          BeanOrigin  ReviewDate  ... Rating   BeanType  BroadOrgin\n",
              "0       A. Morin         Agua Grande        2016  ...   3.75               Sao Tome\n",
              "1       A. Morin               Kpime        2015  ...   2.75                   Togo\n",
              "2       A. Morin              Atsane        2015  ...   3.00                   Togo\n",
              "3       A. Morin               Akata        2015  ...   3.50                   Togo\n",
              "4       A. Morin              Quilla        2015  ...   3.50                   Peru\n",
              "...          ...                 ...         ...  ...    ...        ...         ...\n",
              "1790      Zotter                Peru        2011  ...   3.75                   Peru\n",
              "1791      Zotter               Congo        2011  ...   3.00  Forastero       Congo\n",
              "1792      Zotter        Kerala State        2011  ...   3.50  Forastero       India\n",
              "1793      Zotter        Kerala State        2011  ...   3.25                  India\n",
              "1794      Zotter  Brazil, Mitzi Blue        2010  ...   3.00                 Brazil\n",
              "\n",
              "[1795 rows x 8 columns]"
            ]
          },
          "metadata": {
            "tags": []
          },
          "execution_count": 18
        }
      ]
    },
    {
      "cell_type": "code",
      "metadata": {
        "colab": {
          "base_uri": "https://localhost:8080/"
        },
        "id": "zznWh5KpYHub",
        "outputId": "7b6102e2-d6a1-4806-f465-e836f107f309"
      },
      "source": [
        "list(df['BeanType'][0:5])    # checking the value of blank space in the column BeanType"
      ],
      "execution_count": 19,
      "outputs": [
        {
          "output_type": "execute_result",
          "data": {
            "text/plain": [
              "['\\xa0', '\\xa0', '\\xa0', '\\xa0', '\\xa0']"
            ]
          },
          "metadata": {
            "tags": []
          },
          "execution_count": 19
        }
      ]
    },
    {
      "cell_type": "code",
      "metadata": {
        "colab": {
          "base_uri": "https://localhost:8080/",
          "height": 206
        },
        "id": "tTg4LbO-YH-r",
        "outputId": "5307d86a-900a-44af-be1b-1103930dc4b0"
      },
      "source": [
        "def space(x):\n",
        "    if(x is \"\\xa0\"):\n",
        "        return \"None\"\n",
        "    \n",
        "    \n",
        "df['BeanType'] = df['BeanType'].apply(space)          # fill that space with None\n",
        "df.head()\n",
        "df.head()"
      ],
      "execution_count": 20,
      "outputs": [
        {
          "output_type": "execute_result",
          "data": {
            "text/html": [
              "<div>\n",
              "<style scoped>\n",
              "    .dataframe tbody tr th:only-of-type {\n",
              "        vertical-align: middle;\n",
              "    }\n",
              "\n",
              "    .dataframe tbody tr th {\n",
              "        vertical-align: top;\n",
              "    }\n",
              "\n",
              "    .dataframe thead th {\n",
              "        text-align: right;\n",
              "    }\n",
              "</style>\n",
              "<table border=\"1\" class=\"dataframe\">\n",
              "  <thead>\n",
              "    <tr style=\"text-align: right;\">\n",
              "      <th></th>\n",
              "      <th>CompanyName</th>\n",
              "      <th>BeanOrigin</th>\n",
              "      <th>ReviewDate</th>\n",
              "      <th>CocoaPercent</th>\n",
              "      <th>Location</th>\n",
              "      <th>Rating</th>\n",
              "      <th>BeanType</th>\n",
              "      <th>BroadOrgin</th>\n",
              "    </tr>\n",
              "  </thead>\n",
              "  <tbody>\n",
              "    <tr>\n",
              "      <th>0</th>\n",
              "      <td>A. Morin</td>\n",
              "      <td>Agua Grande</td>\n",
              "      <td>2016</td>\n",
              "      <td>63%</td>\n",
              "      <td>France</td>\n",
              "      <td>3.75</td>\n",
              "      <td>None</td>\n",
              "      <td>Sao Tome</td>\n",
              "    </tr>\n",
              "    <tr>\n",
              "      <th>1</th>\n",
              "      <td>A. Morin</td>\n",
              "      <td>Kpime</td>\n",
              "      <td>2015</td>\n",
              "      <td>70%</td>\n",
              "      <td>France</td>\n",
              "      <td>2.75</td>\n",
              "      <td>None</td>\n",
              "      <td>Togo</td>\n",
              "    </tr>\n",
              "    <tr>\n",
              "      <th>2</th>\n",
              "      <td>A. Morin</td>\n",
              "      <td>Atsane</td>\n",
              "      <td>2015</td>\n",
              "      <td>70%</td>\n",
              "      <td>France</td>\n",
              "      <td>3.00</td>\n",
              "      <td>None</td>\n",
              "      <td>Togo</td>\n",
              "    </tr>\n",
              "    <tr>\n",
              "      <th>3</th>\n",
              "      <td>A. Morin</td>\n",
              "      <td>Akata</td>\n",
              "      <td>2015</td>\n",
              "      <td>70%</td>\n",
              "      <td>France</td>\n",
              "      <td>3.50</td>\n",
              "      <td>None</td>\n",
              "      <td>Togo</td>\n",
              "    </tr>\n",
              "    <tr>\n",
              "      <th>4</th>\n",
              "      <td>A. Morin</td>\n",
              "      <td>Quilla</td>\n",
              "      <td>2015</td>\n",
              "      <td>70%</td>\n",
              "      <td>France</td>\n",
              "      <td>3.50</td>\n",
              "      <td>None</td>\n",
              "      <td>Peru</td>\n",
              "    </tr>\n",
              "  </tbody>\n",
              "</table>\n",
              "</div>"
            ],
            "text/plain": [
              "  CompanyName   BeanOrigin  ReviewDate  ... Rating BeanType  BroadOrgin\n",
              "0    A. Morin  Agua Grande        2016  ...   3.75     None    Sao Tome\n",
              "1    A. Morin        Kpime        2015  ...   2.75     None        Togo\n",
              "2    A. Morin       Atsane        2015  ...   3.00     None        Togo\n",
              "3    A. Morin        Akata        2015  ...   3.50     None        Togo\n",
              "4    A. Morin       Quilla        2015  ...   3.50     None        Peru\n",
              "\n",
              "[5 rows x 8 columns]"
            ]
          },
          "metadata": {
            "tags": []
          },
          "execution_count": 20
        }
      ]
    },
    {
      "cell_type": "code",
      "metadata": {
        "colab": {
          "base_uri": "https://localhost:8080/",
          "height": 206
        },
        "id": "9AjArX0IYILm",
        "outputId": "a50dc8d3-f590-4e8e-b62b-de259cbbeba0"
      },
      "source": [
        "\n",
        "df['CocoaPercent'] = df['CocoaPercent'].str.replace(\"%\",'').astype(float)/100\n",
        "df.head(5)       # change the values of cocoapercent into float"
      ],
      "execution_count": 21,
      "outputs": [
        {
          "output_type": "execute_result",
          "data": {
            "text/html": [
              "<div>\n",
              "<style scoped>\n",
              "    .dataframe tbody tr th:only-of-type {\n",
              "        vertical-align: middle;\n",
              "    }\n",
              "\n",
              "    .dataframe tbody tr th {\n",
              "        vertical-align: top;\n",
              "    }\n",
              "\n",
              "    .dataframe thead th {\n",
              "        text-align: right;\n",
              "    }\n",
              "</style>\n",
              "<table border=\"1\" class=\"dataframe\">\n",
              "  <thead>\n",
              "    <tr style=\"text-align: right;\">\n",
              "      <th></th>\n",
              "      <th>CompanyName</th>\n",
              "      <th>BeanOrigin</th>\n",
              "      <th>ReviewDate</th>\n",
              "      <th>CocoaPercent</th>\n",
              "      <th>Location</th>\n",
              "      <th>Rating</th>\n",
              "      <th>BeanType</th>\n",
              "      <th>BroadOrgin</th>\n",
              "    </tr>\n",
              "  </thead>\n",
              "  <tbody>\n",
              "    <tr>\n",
              "      <th>0</th>\n",
              "      <td>A. Morin</td>\n",
              "      <td>Agua Grande</td>\n",
              "      <td>2016</td>\n",
              "      <td>0.63</td>\n",
              "      <td>France</td>\n",
              "      <td>3.75</td>\n",
              "      <td>None</td>\n",
              "      <td>Sao Tome</td>\n",
              "    </tr>\n",
              "    <tr>\n",
              "      <th>1</th>\n",
              "      <td>A. Morin</td>\n",
              "      <td>Kpime</td>\n",
              "      <td>2015</td>\n",
              "      <td>0.70</td>\n",
              "      <td>France</td>\n",
              "      <td>2.75</td>\n",
              "      <td>None</td>\n",
              "      <td>Togo</td>\n",
              "    </tr>\n",
              "    <tr>\n",
              "      <th>2</th>\n",
              "      <td>A. Morin</td>\n",
              "      <td>Atsane</td>\n",
              "      <td>2015</td>\n",
              "      <td>0.70</td>\n",
              "      <td>France</td>\n",
              "      <td>3.00</td>\n",
              "      <td>None</td>\n",
              "      <td>Togo</td>\n",
              "    </tr>\n",
              "    <tr>\n",
              "      <th>3</th>\n",
              "      <td>A. Morin</td>\n",
              "      <td>Akata</td>\n",
              "      <td>2015</td>\n",
              "      <td>0.70</td>\n",
              "      <td>France</td>\n",
              "      <td>3.50</td>\n",
              "      <td>None</td>\n",
              "      <td>Togo</td>\n",
              "    </tr>\n",
              "    <tr>\n",
              "      <th>4</th>\n",
              "      <td>A. Morin</td>\n",
              "      <td>Quilla</td>\n",
              "      <td>2015</td>\n",
              "      <td>0.70</td>\n",
              "      <td>France</td>\n",
              "      <td>3.50</td>\n",
              "      <td>None</td>\n",
              "      <td>Peru</td>\n",
              "    </tr>\n",
              "  </tbody>\n",
              "</table>\n",
              "</div>"
            ],
            "text/plain": [
              "  CompanyName   BeanOrigin  ReviewDate  ...  Rating BeanType  BroadOrgin\n",
              "0    A. Morin  Agua Grande        2016  ...    3.75     None    Sao Tome\n",
              "1    A. Morin        Kpime        2015  ...    2.75     None        Togo\n",
              "2    A. Morin       Atsane        2015  ...    3.00     None        Togo\n",
              "3    A. Morin        Akata        2015  ...    3.50     None        Togo\n",
              "4    A. Morin       Quilla        2015  ...    3.50     None        Peru\n",
              "\n",
              "[5 rows x 8 columns]"
            ]
          },
          "metadata": {
            "tags": []
          },
          "execution_count": 21
        }
      ]
    },
    {
      "cell_type": "markdown",
      "metadata": {
        "id": "X_-Opa7YatUQ"
      },
      "source": [
        "# Exploring the data"
      ]
    },
    {
      "cell_type": "code",
      "metadata": {
        "colab": {
          "base_uri": "https://localhost:8080/",
          "height": 497
        },
        "id": "6G3VLqTSYIOb",
        "outputId": "e068ba27-98b9-4f91-8704-9c40f150de39"
      },
      "source": [
        "plt.figure(figsize=(12,8))\n",
        "sns.countplot(x='Rating',data=df)\n",
        "plt.show()      # most of the bars have been rated  as 3.5"
      ],
      "execution_count": 22,
      "outputs": [
        {
          "output_type": "display_data",
          "data": {
            "image/png": "[encoded data removed]",
            "text/plain": [
              "<Figure size 864x576 with 1 Axes>"
            ]
          },
          "metadata": {
            "tags": [],
            "needs_background": "light"
          }
        }
      ]
    },
    {
      "cell_type": "code",
      "metadata": {
        "colab": {
          "base_uri": "https://localhost:8080/",
          "height": 174
        },
        "id": "Owm2iYu5YIcd",
        "outputId": "fa3029ad-cbc8-415a-d19e-fea54bcf9817"
      },
      "source": [
        "df[df['Rating'] == 3.5][['CompanyName','BeanType']].describe(include='all')"
      ],
      "execution_count": 23,
      "outputs": [
        {
          "output_type": "execute_result",
          "data": {
            "text/html": [
              "<div>\n",
              "<style scoped>\n",
              "    .dataframe tbody tr th:only-of-type {\n",
              "        vertical-align: middle;\n",
              "    }\n",
              "\n",
              "    .dataframe tbody tr th {\n",
              "        vertical-align: top;\n",
              "    }\n",
              "\n",
              "    .dataframe thead th {\n",
              "        text-align: right;\n",
              "    }\n",
              "</style>\n",
              "<table border=\"1\" class=\"dataframe\">\n",
              "  <thead>\n",
              "    <tr style=\"text-align: right;\">\n",
              "      <th></th>\n",
              "      <th>CompanyName</th>\n",
              "      <th>BeanType</th>\n",
              "    </tr>\n",
              "  </thead>\n",
              "  <tbody>\n",
              "    <tr>\n",
              "      <th>count</th>\n",
              "      <td>392</td>\n",
              "      <td>169</td>\n",
              "    </tr>\n",
              "    <tr>\n",
              "      <th>unique</th>\n",
              "      <td>187</td>\n",
              "      <td>1</td>\n",
              "    </tr>\n",
              "    <tr>\n",
              "      <th>top</th>\n",
              "      <td>Soma</td>\n",
              "      <td>None</td>\n",
              "    </tr>\n",
              "    <tr>\n",
              "      <th>freq</th>\n",
              "      <td>13</td>\n",
              "      <td>169</td>\n",
              "    </tr>\n",
              "  </tbody>\n",
              "</table>\n",
              "</div>"
            ],
            "text/plain": [
              "       CompanyName BeanType\n",
              "count          392      169\n",
              "unique         187        1\n",
              "top           Soma     None\n",
              "freq            13      169"
            ]
          },
          "metadata": {
            "tags": []
          },
          "execution_count": 23
        }
      ]
    },
    {
      "cell_type": "code",
      "metadata": {
        "colab": {
          "base_uri": "https://localhost:8080/",
          "height": 486
        },
        "id": "9rJY2tt5YIg6",
        "outputId": "02556ed1-ef87-4bb5-ed1b-572f313fbc14"
      },
      "source": [
        "plt.figure(figsize=(12,8))\n",
        "sns.heatmap(df.corr(),annot=True)      # there is very less correlation between variables\n",
        "plt.show()"
      ],
      "execution_count": 24,
      "outputs": [
        {
          "output_type": "display_data",
          "data": {
            "image/png": "[encoded data removed]",
            "text/plain": [
              "<Figure size 864x576 with 2 Axes>"
            ]
          },
          "metadata": {
            "tags": [],
            "needs_background": "light"
          }
        }
      ]
    },
    {
      "cell_type": "code",
      "metadata": {
        "colab": {
          "base_uri": "https://localhost:8080/",
          "height": 534
        },
        "id": "IkFtROx_YIwn",
        "outputId": "ba2d12e7-e481-4286-9998-5f9705150b11"
      },
      "source": [
        "plt.figure(figsize=(12,8))\n",
        "df['Location'].value_counts().head(10).plot.bar()   # most of the bars from U.S.A\n",
        "plt.show() "
      ],
      "execution_count": 25,
      "outputs": [
        {
          "output_type": "display_data",
          "data": {
            "image/png": "[encoded data removed]",
            "text/plain": [
              "<Figure size 864x576 with 1 Axes>"
            ]
          },
          "metadata": {
            "tags": [],
            "needs_background": "light"
          }
        }
      ]
    },
    {
      "cell_type": "code",
      "metadata": {
        "colab": {
          "base_uri": "https://localhost:8080/",
          "height": 457
        },
        "id": "_JcyADDsYIzF",
        "outputId": "471cb00f-d5a9-4a15-9fac-748741f65b57"
      },
      "source": [
        "df.groupby('ReviewDate')['Rating'].describe()"
      ],
      "execution_count": 26,
      "outputs": [
        {
          "output_type": "execute_result",
          "data": {
            "text/html": [
              "<div>\n",
              "<style scoped>\n",
              "    .dataframe tbody tr th:only-of-type {\n",
              "        vertical-align: middle;\n",
              "    }\n",
              "\n",
              "    .dataframe tbody tr th {\n",
              "        vertical-align: top;\n",
              "    }\n",
              "\n",
              "    .dataframe thead th {\n",
              "        text-align: right;\n",
              "    }\n",
              "</style>\n",
              "<table border=\"1\" class=\"dataframe\">\n",
              "  <thead>\n",
              "    <tr style=\"text-align: right;\">\n",
              "      <th></th>\n",
              "      <th>count</th>\n",
              "      <th>mean</th>\n",
              "      <th>std</th>\n",
              "      <th>min</th>\n",
              "      <th>25%</th>\n",
              "      <th>50%</th>\n",
              "      <th>75%</th>\n",
              "      <th>max</th>\n",
              "    </tr>\n",
              "    <tr>\n",
              "      <th>ReviewDate</th>\n",
              "      <th></th>\n",
              "      <th></th>\n",
              "      <th></th>\n",
              "      <th></th>\n",
              "      <th></th>\n",
              "      <th></th>\n",
              "      <th></th>\n",
              "      <th></th>\n",
              "    </tr>\n",
              "  </thead>\n",
              "  <tbody>\n",
              "    <tr>\n",
              "      <th>2006</th>\n",
              "      <td>72.0</td>\n",
              "      <td>3.125000</td>\n",
              "      <td>0.769122</td>\n",
              "      <td>1.00</td>\n",
              "      <td>2.9375</td>\n",
              "      <td>3.00</td>\n",
              "      <td>3.5625</td>\n",
              "      <td>5.00</td>\n",
              "    </tr>\n",
              "    <tr>\n",
              "      <th>2007</th>\n",
              "      <td>77.0</td>\n",
              "      <td>3.162338</td>\n",
              "      <td>0.699819</td>\n",
              "      <td>1.00</td>\n",
              "      <td>3.0000</td>\n",
              "      <td>3.00</td>\n",
              "      <td>3.5000</td>\n",
              "      <td>5.00</td>\n",
              "    </tr>\n",
              "    <tr>\n",
              "      <th>2008</th>\n",
              "      <td>93.0</td>\n",
              "      <td>2.994624</td>\n",
              "      <td>0.544212</td>\n",
              "      <td>1.00</td>\n",
              "      <td>2.7500</td>\n",
              "      <td>3.00</td>\n",
              "      <td>3.5000</td>\n",
              "      <td>4.00</td>\n",
              "    </tr>\n",
              "    <tr>\n",
              "      <th>2009</th>\n",
              "      <td>123.0</td>\n",
              "      <td>3.073171</td>\n",
              "      <td>0.459119</td>\n",
              "      <td>1.50</td>\n",
              "      <td>2.7500</td>\n",
              "      <td>3.00</td>\n",
              "      <td>3.5000</td>\n",
              "      <td>4.00</td>\n",
              "    </tr>\n",
              "    <tr>\n",
              "      <th>2010</th>\n",
              "      <td>111.0</td>\n",
              "      <td>3.148649</td>\n",
              "      <td>0.466343</td>\n",
              "      <td>1.50</td>\n",
              "      <td>2.7500</td>\n",
              "      <td>3.25</td>\n",
              "      <td>3.5000</td>\n",
              "      <td>4.00</td>\n",
              "    </tr>\n",
              "    <tr>\n",
              "      <th>2011</th>\n",
              "      <td>165.0</td>\n",
              "      <td>3.256061</td>\n",
              "      <td>0.489954</td>\n",
              "      <td>1.50</td>\n",
              "      <td>3.0000</td>\n",
              "      <td>3.25</td>\n",
              "      <td>3.5000</td>\n",
              "      <td>4.00</td>\n",
              "    </tr>\n",
              "    <tr>\n",
              "      <th>2012</th>\n",
              "      <td>195.0</td>\n",
              "      <td>3.178205</td>\n",
              "      <td>0.483596</td>\n",
              "      <td>1.50</td>\n",
              "      <td>2.7500</td>\n",
              "      <td>3.25</td>\n",
              "      <td>3.5000</td>\n",
              "      <td>4.00</td>\n",
              "    </tr>\n",
              "    <tr>\n",
              "      <th>2013</th>\n",
              "      <td>184.0</td>\n",
              "      <td>3.197011</td>\n",
              "      <td>0.446118</td>\n",
              "      <td>1.75</td>\n",
              "      <td>2.7500</td>\n",
              "      <td>3.25</td>\n",
              "      <td>3.5000</td>\n",
              "      <td>4.00</td>\n",
              "    </tr>\n",
              "    <tr>\n",
              "      <th>2014</th>\n",
              "      <td>247.0</td>\n",
              "      <td>3.189271</td>\n",
              "      <td>0.414861</td>\n",
              "      <td>2.00</td>\n",
              "      <td>2.8750</td>\n",
              "      <td>3.25</td>\n",
              "      <td>3.5000</td>\n",
              "      <td>4.00</td>\n",
              "    </tr>\n",
              "    <tr>\n",
              "      <th>2015</th>\n",
              "      <td>285.0</td>\n",
              "      <td>3.246491</td>\n",
              "      <td>0.381096</td>\n",
              "      <td>2.00</td>\n",
              "      <td>3.0000</td>\n",
              "      <td>3.25</td>\n",
              "      <td>3.5000</td>\n",
              "      <td>4.00</td>\n",
              "    </tr>\n",
              "    <tr>\n",
              "      <th>2016</th>\n",
              "      <td>219.0</td>\n",
              "      <td>3.226027</td>\n",
              "      <td>0.420581</td>\n",
              "      <td>2.00</td>\n",
              "      <td>3.0000</td>\n",
              "      <td>3.25</td>\n",
              "      <td>3.5000</td>\n",
              "      <td>4.00</td>\n",
              "    </tr>\n",
              "    <tr>\n",
              "      <th>2017</th>\n",
              "      <td>24.0</td>\n",
              "      <td>3.312500</td>\n",
              "      <td>0.331744</td>\n",
              "      <td>2.50</td>\n",
              "      <td>3.2500</td>\n",
              "      <td>3.50</td>\n",
              "      <td>3.5000</td>\n",
              "      <td>3.75</td>\n",
              "    </tr>\n",
              "  </tbody>\n",
              "</table>\n",
              "</div>"
            ],
            "text/plain": [
              "            count      mean       std   min     25%   50%     75%   max\n",
              "ReviewDate                                                             \n",
              "2006         72.0  3.125000  0.769122  1.00  2.9375  3.00  3.5625  5.00\n",
              "2007         77.0  3.162338  0.699819  1.00  3.0000  3.00  3.5000  5.00\n",
              "2008         93.0  2.994624  0.544212  1.00  2.7500  3.00  3.5000  4.00\n",
              "2009        123.0  3.073171  0.459119  1.50  2.7500  3.00  3.5000  4.00\n",
              "2010        111.0  3.148649  0.466343  1.50  2.7500  3.25  3.5000  4.00\n",
              "2011        165.0  3.256061  0.489954  1.50  3.0000  3.25  3.5000  4.00\n",
              "2012        195.0  3.178205  0.483596  1.50  2.7500  3.25  3.5000  4.00\n",
              "2013        184.0  3.197011  0.446118  1.75  2.7500  3.25  3.5000  4.00\n",
              "2014        247.0  3.189271  0.414861  2.00  2.8750  3.25  3.5000  4.00\n",
              "2015        285.0  3.246491  0.381096  2.00  3.0000  3.25  3.5000  4.00\n",
              "2016        219.0  3.226027  0.420581  2.00  3.0000  3.25  3.5000  4.00\n",
              "2017         24.0  3.312500  0.331744  2.50  3.2500  3.50  3.5000  3.75"
            ]
          },
          "metadata": {
            "tags": []
          },
          "execution_count": 26
        }
      ]
    },
    {
      "cell_type": "code",
      "metadata": {
        "colab": {
          "base_uri": "https://localhost:8080/",
          "height": 461
        },
        "id": "SSYpkhTOYJDR",
        "outputId": "423b7b67-7760-419d-a592-f9069669cf6c"
      },
      "source": [
        "plt.figure(figsize=(18,7))\n",
        "sns.countplot(x= 'CocoaPercent', data = df, color = 'green')      # mean cocoa percentage is 70%  \n",
        "plt.xticks(rotation=45)\n",
        "plt.show()"
      ],
      "execution_count": 27,
      "outputs": [
        {
          "output_type": "display_data",
          "data": {
            "image/png": "[encoded data removed]",
            "text/plain": [
              "<Figure size 1296x504 with 1 Axes>"
            ]
          },
          "metadata": {
            "tags": [],
            "needs_background": "light"
          }
        }
      ]
    },
    {
      "cell_type": "code",
      "metadata": {
        "colab": {
          "base_uri": "https://localhost:8080/",
          "height": 382
        },
        "id": "ERvvGYeUYJSD",
        "outputId": "7e7a6814-ba50-49da-8c21-f7241555dad2"
      },
      "source": [
        "\n",
        "sns.relplot(x=\"ReviewDate\",y=\"Rating\",size=\"CocoaPercent\",sizes=(30,300),data=df)\n",
        "plt.show()                                   # this graph shows the relation between rating,cocoapercent and review date"
      ],
      "execution_count": 28,
      "outputs": [
        {
          "output_type": "display_data",
          "data": {
            "image/png": "[encoded data removed]",
            "text/plain": [
              "<Figure size 436x360 with 1 Axes>"
            ]
          },
          "metadata": {
            "tags": [],
            "needs_background": "light"
          }
        }
      ]
    },
    {
      "cell_type": "code",
      "metadata": {
        "colab": {
          "base_uri": "https://localhost:8080/",
          "height": 497
        },
        "id": "WoOQcWAYYJkH",
        "outputId": "f41e1c09-1513-4142-cf97-753eead5c2d6"
      },
      "source": [
        "plt.figure(figsize=(15,8))\n",
        "sns.lineplot(x=\"CocoaPercent\",y=\"Rating\",data=df)   # the sweet spot is around 70%,and a rating 3 - 3.5\n",
        "plt.show()"
      ],
      "execution_count": 29,
      "outputs": [
        {
          "output_type": "display_data",
          "data": {
            "image/png": "[encoded data removed]",
            "text/plain": [
              "<Figure size 1080x576 with 1 Axes>"
            ]
          },
          "metadata": {
            "tags": [],
            "needs_background": "light"
          }
        }
      ]
    },
    {
      "cell_type": "code",
      "metadata": {
        "colab": {
          "base_uri": "https://localhost:8080/"
        },
        "id": "7sSDc6kjYJ1O",
        "outputId": "6f63da91-9aac-477c-d6b9-2eb662268342"
      },
      "source": [
        "d2 = df[df['CocoaPercent'] == .70]\n",
        "d2.count()    #count of chocolate bars with 70% cocoa"
      ],
      "execution_count": 30,
      "outputs": [
        {
          "output_type": "execute_result",
          "data": {
            "text/plain": [
              "CompanyName     672\n",
              "BeanOrigin      672\n",
              "ReviewDate      672\n",
              "CocoaPercent    672\n",
              "Location        672\n",
              "Rating          672\n",
              "BeanType        357\n",
              "BroadOrgin      672\n",
              "dtype: int64"
            ]
          },
          "metadata": {
            "tags": []
          },
          "execution_count": 30
        }
      ]
    },
    {
      "cell_type": "code",
      "metadata": {
        "colab": {
          "base_uri": "https://localhost:8080/",
          "height": 497
        },
        "id": "51_CJ-U3YKH-",
        "outputId": "ca078dbe-15ba-42b6-dda4-ba63a37e8f95"
      },
      "source": [
        "plt.figure(figsize=(12,8))\n",
        "sns.countplot(x=\"Rating\",data=d2,color=\"red\")\n",
        "plt.show()       # bars with 70% of cocoa and its ratings"
      ],
      "execution_count": 31,
      "outputs": [
        {
          "output_type": "display_data",
          "data": {
            "image/png": "[encoded data removed]",
            "text/plain": [
              "<Figure size 864x576 with 1 Axes>"
            ]
          },
          "metadata": {
            "tags": [],
            "needs_background": "light"
          }
        }
      ]
    },
    {
      "cell_type": "code",
      "metadata": {
        "colab": {
          "base_uri": "https://localhost:8080/"
        },
        "id": "wuSI7u-VYKKj",
        "outputId": "43c9fec0-ca28-4176-8cea-b7df82b1ffea"
      },
      "source": [
        "d3 = df[df['Rating'] >= 3.5]           #  count of bars rating is >= 3.5\n",
        "d3.count()"
      ],
      "execution_count": 32,
      "outputs": [
        {
          "output_type": "execute_result",
          "data": {
            "text/plain": [
              "CompanyName     702\n",
              "BeanOrigin      702\n",
              "ReviewDate      702\n",
              "CocoaPercent    702\n",
              "Location        702\n",
              "Rating          702\n",
              "BeanType        302\n",
              "BroadOrgin      702\n",
              "dtype: int64"
            ]
          },
          "metadata": {
            "tags": []
          },
          "execution_count": 32
        }
      ]
    },
    {
      "cell_type": "code",
      "metadata": {
        "colab": {
          "base_uri": "https://localhost:8080/",
          "height": 562
        },
        "id": "T-Fq94sJd0Qq",
        "outputId": "d742dd0d-2bd2-4068-9f81-3682bdd4b5fe"
      },
      "source": [
        "plt.figure(figsize=(15,8))\n",
        "sns.countplot(x=\"Location\",data=d3,color=\"green\")       # bars from USA have rating >= 3.5\n",
        "plt.xticks(rotation=45)\n",
        "plt.show()"
      ],
      "execution_count": 33,
      "outputs": [
        {
          "output_type": "display_data",
          "data": {
            "image/png": "[encoded data removed]",
            "text/plain": [
              "<Figure size 1080x576 with 1 Axes>"
            ]
          },
          "metadata": {
            "tags": [],
            "needs_background": "light"
          }
        }
      ]
    },
    {
      "cell_type": "code",
      "metadata": {
        "colab": {
          "base_uri": "https://localhost:8080/",
          "height": 538
        },
        "id": "-m0y2D0kd0ga",
        "outputId": "38eb035b-e0c2-47ad-b865-233c5ad85867"
      },
      "source": [
        "d4 = df['CompanyName'].value_counts().sort_values(ascending=False).head(5)\n",
        "d4 = pd.DataFrame(d4)\n",
        "d4 = d4.reset_index() \n",
        "\n",
        "plt.figure(figsize=(12,8))\n",
        "sns.barplot(x='index', y='CompanyName', data=d4)\n",
        "plt.xlabel(\"\\nChocolate Company\")\n",
        "plt.ylabel(\"Number of Bars\")                         # find the top five companiies\n",
        "plt.title(\"Top 5 Companies in terms of Chocolate Bars\\n\")\n",
        "plt.show()\n"
      ],
      "execution_count": 34,
      "outputs": [
        {
          "output_type": "display_data",
          "data": {
            "image/png": "[encoded data removed]",
            "text/plain": [
              "<Figure size 864x576 with 1 Axes>"
            ]
          },
          "metadata": {
            "tags": [],
            "needs_background": "light"
          }
        }
      ]
    },
    {
      "cell_type": "code",
      "metadata": {
        "colab": {
          "base_uri": "https://localhost:8080/",
          "height": 540
        },
        "id": "6BhKdyL5d0jY",
        "outputId": "49b286b7-cd9c-4a82-cd89-b0933b99e854"
      },
      "source": [
        "d5 = df['BroadOrgin'].value_counts().sort_values(ascending=False).head(5)\n",
        "d5 = pd.DataFrame(d5)\n",
        "d5 = d5.reset_index() \n",
        "\n",
        "plt.figure(figsize=(12,8))\n",
        "sns.barplot(x='index', y='BroadOrgin', data=d5,color=\"brown\")                # most of the bars broad orgin is Venezulea\n",
        "plt.xlabel(\"\\nBroad_bean orgin\")\n",
        "plt.ylabel(\"Number of Bars\")\n",
        "plt.title(\"Top 5 Broad_Orgin in of Chocolate Bars\\n\")\n",
        "plt.show()"
      ],
      "execution_count": 35,
      "outputs": [
        {
          "output_type": "display_data",
          "data": {
            "image/png": "[encoded data removed]",
            "text/plain": [
              "<Figure size 864x576 with 1 Axes>"
            ]
          },
          "metadata": {
            "tags": [],
            "needs_background": "light"
          }
        }
      ]
    },
    {
      "cell_type": "code",
      "metadata": {
        "id": "OmUltcOWd0w9"
      },
      "source": [
        "soma = df[df['CompanyName']=='Soma']"
      ],
      "execution_count": 36,
      "outputs": []
    },
    {
      "cell_type": "code",
      "metadata": {
        "colab": {
          "base_uri": "https://localhost:8080/",
          "height": 540
        },
        "id": "UwiCFzQ8d0z7",
        "outputId": "3562d82d-1d80-474d-ac6a-da04cb3a22c1"
      },
      "source": [
        "d6 = soma['BroadOrgin'].value_counts().sort_values(ascending=False).head(5)\n",
        "d6 = pd.DataFrame(d6)\n",
        "d6 = d6.reset_index() \n",
        "\n",
        "\n",
        "plt.figure(figsize=(12,8))\n",
        "sns.barplot(x='index', y='BroadOrgin', data=d6)              #where does soma get its beans\n",
        "plt.xlabel(\"\\nBroad_bean orgin\")\n",
        "plt.ylabel(\"Number of Bars\")\n",
        "plt.title(\"Where does Soma get it's beans from?\\n\")\n",
        "plt.show()"
      ],
      "execution_count": 37,
      "outputs": [
        {
          "output_type": "display_data",
          "data": {
            "image/png": "[encoded data removed]",
            "text/plain": [
              "<Figure size 864x576 with 1 Axes>"
            ]
          },
          "metadata": {
            "tags": [],
            "needs_background": "light"
          }
        }
      ]
    },
    {
      "cell_type": "code",
      "metadata": {
        "colab": {
          "base_uri": "https://localhost:8080/",
          "height": 538
        },
        "id": "4LQ0SJzZd03G",
        "outputId": "73106fdf-bbd6-4725-dd4e-b1844b3cb076"
      },
      "source": [
        "plt.figure(figsize=(12,8))\n",
        "sns.kdeplot(soma['Rating'], legend=False, color=\"brown\", shade=True)\n",
        "plt.xlabel(\"\\nRating of the Chocolate Bar\")\n",
        "plt.ylabel(\"Proportion of Chocolate Bars\")           # ratings of the soma's chocolate bars\n",
        "plt.title(\"Ratings of Chocolate produced by Soma\\n\")\n",
        "plt.show()"
      ],
      "execution_count": 38,
      "outputs": [
        {
          "output_type": "display_data",
          "data": {
            "image/png": "[encoded data removed]",
            "text/plain": [
              "<Figure size 864x576 with 1 Axes>"
            ]
          },
          "metadata": {
            "tags": [],
            "needs_background": "light"
          }
        }
      ]
    },
    {
      "cell_type": "code",
      "metadata": {
        "colab": {
          "base_uri": "https://localhost:8080/"
        },
        "id": "9w4RGVnxd1Eo",
        "outputId": "775cbf0f-3070-4a1d-94a2-0bb844d449f2"
      },
      "source": [
        "d = df[df['Rating'] == 5.0]\n",
        "d.count()"
      ],
      "execution_count": 39,
      "outputs": [
        {
          "output_type": "execute_result",
          "data": {
            "text/plain": [
              "CompanyName     2\n",
              "BeanOrigin      2\n",
              "ReviewDate      2\n",
              "CocoaPercent    2\n",
              "Location        2\n",
              "Rating          2\n",
              "BeanType        0\n",
              "BroadOrgin      2\n",
              "dtype: int64"
            ]
          },
          "metadata": {
            "tags": []
          },
          "execution_count": 39
        }
      ]
    },
    {
      "cell_type": "markdown",
      "metadata": {
        "id": "HJhs34i-ggU5"
      },
      "source": [
        "# conclusions\n",
        "This analysis will helps the chocolate industries to find out  how the consumers rated the chocalate bar,what are the  most acceptable cocoa percentage, also this data help us to determine where the highest no. of consumers are located etc. This findings also helpful to the  customers to explore some good quality chocoates next time ."
      ]
    },
    {
      "cell_type": "code",
      "metadata": {
        "id": "UvPpXWa-lMt5"
      },
      "source": [
        ""
      ],
      "execution_count": 39,
      "outputs": []
    },
    {
      "cell_type": "markdown",
      "metadata": {
        "id": "3OCF0YuLjjdW"
      },
      "source": [
        "# insights \n",
        "This analysis change my understanding about the chocolate Bars .which gives  some insights that helpful to explore some good quality chocolates  next time.the percentage of cocoa ,where its beans comes from ,quality of beans etc are also the reason for its ratings .from this i found that the mean amount of cocoa used in most of the bars are 70%.most of the bars rated 3 to 4,which contain 70% ococoa.venezulea's beans are highly demanding one. chocolate bars containing  100% of coca is not much preferd.The sweet spot is around 70% of cocoa in it. Bars produced from USA get a rating >= 3.5.Next time buy some chocolates keep this in mind,it will helpsto explore some good qualiy chocolates"
      ]
    },
    {
      "cell_type": "code",
      "metadata": {
        "id": "iCgeUTi7d1Jg"
      },
      "source": [
        ""
      ],
      "execution_count": 39,
      "outputs": []
    },
    {
      "cell_type": "code",
      "metadata": {
        "id": "9izlP2kzdy4U"
      },
      "source": [
        ""
      ],
      "execution_count": 39,
      "outputs": []
    },
    {
      "cell_type": "code",
      "metadata": {
        "id": "2IY0vcSEdzII"
      },
      "source": [
        ""
      ],
      "execution_count": 39,
      "outputs": []
    },
    {
      "cell_type": "code",
      "metadata": {
        "id": "KMUEN1HSdzKy"
      },
      "source": [
        ""
      ],
      "execution_count": 39,
      "outputs": []
    },
    {
      "cell_type": "markdown",
      "metadata": {
        "id": "MoZ-vdl4U1C4"
      },
      "source": [
        ""
      ]
    }
  ]
}